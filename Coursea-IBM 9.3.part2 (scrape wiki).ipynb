{
 "cells": [
  {
   "cell_type": "markdown",
   "metadata": {},
   "source": [
    "# Data handling\n",
    "Ignore cells with a borough that is Not assigned\n",
    "\n",
    "More than one neighborhood can exist in one postal code; these will be combined with the neighborhoods separated with a comma\n",
    "\n",
    "If a cell has a borough but a Not assigned neighborhood, then the neighborhood will be the same as the borough"
   ]
  },
  {
   "cell_type": "code",
   "execution_count": 193,
   "metadata": {},
   "outputs": [
    {
     "name": "stdout",
     "output_type": "stream",
     "text": [
      "(103, 3)\n"
     ]
    }
   ],
   "source": [
    "# bs4 ref: https://www.digitalocean.com/community/tutorials/how-to-scrape-web-pages-with-beautiful-soup-and-python-3\n",
    "# bs4 ref: https://www.crummy.com/software/BeautifulSoup/bs4/doc/\n",
    "\n",
    "import pandas as pd\n",
    "from bs4 import BeautifulSoup\n",
    "import requests\n",
    "\n",
    "result = requests.get(\"https://en.wikipedia.org/wiki/List_of_postal_codes_of_Canada:_M\")\n",
    "soup = BeautifulSoup(result.text, 'lxml')\n",
    "table_list = soup.find(\"table\", class_ = \"wikitable sortable\")\n",
    "\n",
    "PostalCode = []\n",
    "Borough = []\n",
    "Neighborhood = []\n",
    "\n",
    "for entry in table_list.find_all('tr'):\n",
    "    items = entry.find_all('td')\n",
    "    if len(items) == 3:\n",
    "        PostalCode.append(items[0].text)\n",
    "        Borough.append(items[1].text)\n",
    "        Neighborhood.append(items[2].text[:-1])   # to remove \\n\n",
    "\n",
    "df = pd.DataFrame({\"PostalCode\":PostalCode, \"Borough\":Borough, \"Neighborhood\":Neighborhood})\n",
    "\n",
    "# Ignore cells with a borough that is Not assigned\n",
    "df = df[df.Borough != \"Not assigned\"]\n",
    "\n",
    "# If a cell has a borough but a Not assigned neighborhood, then the neighborhood will be the same as the borough.\n",
    "loc = df.Neighborhood == \"Not assigned\"\n",
    "df[\"Neighborhood\"][loc] = df[\"Borough\"][loc]\n",
    "\n",
    "# More than one neighborhood can exist in one postal code; these will be combined with the neighborhoods separated with a comma\n",
    "df_final = pd.DataFrame(columns=[\"PostalCode\", \"Borough\", \"Neighborhood\"])\n",
    "\n",
    "for name, group in df.groupby(\"PostalCode\"):\n",
    "    neighborhoods = \", \".join(group[\"Neighborhood\"])\n",
    "    df_final = df_final.append({\"PostalCode\":list(group[\"PostalCode\"])[0], \"Borough\":list(group[\"Borough\"])[0], \"Neighborhood\":neighborhoods}, ignore_index=True)\n",
    "\n",
    "print(df_final.shape)"
   ]
  },
  {
   "cell_type": "code",
   "execution_count": null,
   "metadata": {},
   "outputs": [],
   "source": []
  }
 ],
 "metadata": {
  "kernelspec": {
   "display_name": "Python 3",
   "language": "python",
   "name": "python3"
  },
  "language_info": {
   "codemirror_mode": {
    "name": "ipython",
    "version": 3
   },
   "file_extension": ".py",
   "mimetype": "text/x-python",
   "name": "python",
   "nbconvert_exporter": "python",
   "pygments_lexer": "ipython3",
   "version": "3.7.1"
  }
 },
 "nbformat": 4,
 "nbformat_minor": 2
}
